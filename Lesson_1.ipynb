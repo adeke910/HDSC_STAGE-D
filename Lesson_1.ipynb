{
 "cells": [
  {
   "attachments": {},
   "cell_type": "markdown",
   "metadata": {},
   "source": [
    "<a id=\"1.1\"></a>\n",
    "<h2 style=\"font-family: Roboto; font-size: 35px; font-style: normal; font-weight: normal; text-align:center; display:fill; text-decoration: none; padding:10px; letter-spacing: 1px; color: White; background-color:#008080;\"><b>Introduction to Artificial Neural Network & the Keras Framework</h2>\n",
    "\n",
    "<h3 style=\"font-family: Roboto;text-align:center;letter-spacing: 1px;\"><b>Introduction to Keras and Tensorflow with Python.</h3>\n",
    "\n"
   ]
  },
  {
   "cell_type": "code",
   "execution_count": 1,
   "metadata": {},
   "outputs": [
    {
     "name": "stdout",
     "output_type": "stream",
     "text": [
      "WARNING:tensorflow:From c:\\Users\\adeke\\anaconda3\\lib\\site-packages\\tensorflow\\python\\compat\\v2_compat.py:107: disable_resource_variables (from tensorflow.python.ops.variable_scope) is deprecated and will be removed in a future version.\n",
      "Instructions for updating:\n",
      "non-resource variables are not supported in the long term\n"
     ]
    }
   ],
   "source": [
    "import numpy as np\n",
    "import matplotlib.pyplot as plt\n",
    "import tensorflow.compat.v1 as tf\n",
    "tf.disable_v2_behavior() \n",
    "from tensorflow import keras"
   ]
  },
  {
   "cell_type": "code",
   "execution_count": 2,
   "metadata": {},
   "outputs": [],
   "source": [
    "mnist = keras.datasets.mnist \n",
    "(train_images, train_labels), (test_images, test_labels) = mnist.load_data()"
   ]
  },
  {
   "cell_type": "code",
   "execution_count": 3,
   "metadata": {},
   "outputs": [
    {
     "name": "stdout",
     "output_type": "stream",
     "text": [
      "Training data: (60000, 28, 28), (60000,)\n"
     ]
    }
   ],
   "source": [
    "print(\"Training data: {}, {}\".format(train_images.shape, train_labels.shape))"
   ]
  },
  {
   "cell_type": "code",
   "execution_count": 4,
   "metadata": {},
   "outputs": [
    {
     "name": "stdout",
     "output_type": "stream",
     "text": [
      "Test data: (10000, 28, 28), (10000,)\n"
     ]
    }
   ],
   "source": [
    "print(\"Test data: {}, {}\".format(test_images.shape, test_labels.shape))"
   ]
  },
  {
   "cell_type": "code",
   "execution_count": 5,
   "metadata": {},
   "outputs": [
    {
     "name": "stdout",
     "output_type": "stream",
     "text": [
      "There are 10 classes in the dataset. They are: [0 1 2 3 4 5 6 7 8 9]\n"
     ]
    }
   ],
   "source": [
    "class_labels = np.unique(train_labels) \n",
    "print(\"There are {} classes in the dataset. They are: {}\".format(len(class_labels), class_labels))"
   ]
  },
  {
   "attachments": {},
   "cell_type": "markdown",
   "metadata": {},
   "source": [
    "<div style=\"font-family:Roboto;background-color:black; padding:20px; font-size:30px; text-align:center\">\n",
    "\n",
    "Visualizing the Images\n",
    "\n",
    "</div>"
   ]
  },
  {
   "cell_type": "code",
   "execution_count": 6,
   "metadata": {},
   "outputs": [
    {
     "data": {
      "image/png": "[encoded data removed]",
      "text/plain": [
       "<Figure size 800x500 with 3 Axes>"
      ]
     },
     "metadata": {},
     "output_type": "display_data"
    }
   ],
   "source": [
    "plt.figure(figsize=(8, 5)) \n",
    "\n",
    "plt.subplot(1,3,1)\n",
    "plt.imshow(train_images[0]) \n",
    "plt.title(\"Label: {}\".format(train_labels[0])) \n",
    "\n",
    "plt.subplot(1,3,2) \n",
    "plt.imshow(train_images[2500])\n",
    "plt.title(\"Label: {}\".format(train_labels[2500])) \n",
    "\n",
    "plt.subplot(1,3,3) \n",
    "plt.imshow(test_images[12]) \n",
    "\n",
    "plt.show()"
   ]
  },
  {
   "attachments": {},
   "cell_type": "markdown",
   "metadata": {},
   "source": [
    "<div style=\"font-family:Roboto;background-color:black; padding:20px; font-size:30px; text-align:center\">\n",
    "\n",
    "Scale the Data\n",
    "\n",
    "</div>"
   ]
  },
  {
   "cell_type": "code",
   "execution_count": 7,
   "metadata": {},
   "outputs": [],
   "source": [
    "# scale our dataset to range between 0 and 1.\n",
    "#  Dividing the data by 255 scales to the required range.count\n",
    "\n",
    "train_images = train_images / 255.0 \n",
    "test_images = test_images / 255.0"
   ]
  },
  {
   "attachments": {},
   "cell_type": "markdown",
   "metadata": {},
   "source": [
    "<div style=\"font-family:Roboto;background-color:black; padding:20px; font-size:30px; text-align:center\">\n",
    "\n",
    "Split training data into training and validation sets\n",
    "\n",
    "</div>"
   ]
  },
  {
   "cell_type": "code",
   "execution_count": 8,
   "metadata": {},
   "outputs": [
    {
     "name": "stdout",
     "output_type": "stream",
     "text": [
      "x_train: (50000, 28, 28)\n",
      "x_val: (10000, 28, 28)\n",
      "y_train: (50000,)\n",
      "y_val: (10000,)\n"
     ]
    }
   ],
   "source": [
    "x_train = train_images[0:50000] \n",
    "x_val = train_images[50000:] \n",
    "\n",
    "y_train = train_labels[0:50000] \n",
    "y_val = train_labels[50000:] \n",
    "\n",
    "print(\"x_train: {}\".format(x_train.shape)) \n",
    "print(\"x_val: {}\".format(x_val.shape)) \n",
    "\n",
    "print(\"y_train: {}\".format(y_train.shape)) \n",
    "print(\"y_val: {}\".format(y_val.shape)) "
   ]
  },
  {
   "attachments": {},
   "cell_type": "markdown",
   "metadata": {},
   "source": [
    "<div style=\"font-family:Roboto;background-color:black; padding:20px; font-size:30px; text-align:center\">\n",
    "\n",
    "Reshape data from 28*28 array to single array\n",
    "\n",
    "</div>"
   ]
  },
  {
   "cell_type": "code",
   "execution_count": 9,
   "metadata": {},
   "outputs": [
    {
     "name": "stdout",
     "output_type": "stream",
     "text": [
      "x_train: (50000, 784)\n",
      "x_val: (10000, 784)\n",
      "test_images: (10000, 784)\n"
     ]
    }
   ],
   "source": [
    "new_dimension = np.prod(train_images.shape[1:]) \n",
    "x_train = x_train.reshape(x_train.shape[0], new_dimension) \n",
    "x_val = x_val.reshape(x_val.shape[0], new_dimension) \n",
    "test_images = test_images.reshape(test_images.shape[0], new_dimension) \n",
    "\n",
    "print(\"x_train: {}\".format(x_train.shape)) \n",
    "print(\"x_val: {}\".format(x_val.shape)) \n",
    "print(\"test_images: {}\".format(test_images.shape)) "
   ]
  },
  {
   "attachments": {},
   "cell_type": "markdown",
   "metadata": {},
   "source": [
    "<div style=\"font-family:Roboto;background-color:black; padding:20px; font-size:30px; text-align:center\">\n",
    "\n",
    "Encode labels to categorical variables\n",
    "\n",
    "</div>"
   ]
  },
  {
   "cell_type": "code",
   "execution_count": 10,
   "metadata": {},
   "outputs": [],
   "source": [
    "from tensorflow.keras.utils import to_categorical\n",
    " \n",
    "no_labels = 10\n",
    "y_train = to_categorical(y_train, no_labels) \n",
    "y_val = to_categorical(y_val, no_labels) \n",
    "y_test = to_categorical(test_labels, no_labels)"
   ]
  },
  {
   "cell_type": "markdown",
   "metadata": {},
   "source": [
    "<div style=\"font-family:Roboto;background-color:black; padding:20px; font-size:30px; text-align:center\">\n",
    "\n",
    "Activation Functions and Neural Hyperparameters\n",
    "\n",
    "</div>"
   ]
  },
  {
   "cell_type": "code",
   "execution_count": 11,
   "metadata": {},
   "outputs": [],
   "source": [
    "X = tf.placeholder(tf.float32, [None, new_dimension]) \n",
    "Y = tf.placeholder(tf.float32, [None, no_labels])\n",
    "\n",
    "# create model architecture \n",
    "def multilayer_perceptron(x, no_classes, first_layer_neurons=256, second_layer_neurons=128):  \n",
    "    # first layer  \n",
    "    first_weight = tf.Variable(tf.random_uniform([new_dimension, first_layer_neurons]))  \n",
    "    first_bias = tf.Variable(tf.zeros([first_layer_neurons]))  \n",
    "    first_layer_output = tf.nn.relu(tf.add(tf.matmul(x, first_weight), first_bias))   \n",
    "    \n",
    "    # second layer  \n",
    "    second_weight = tf.Variable(tf.random_uniform([first_layer_neurons,second_layer_neurons]))  \n",
    "    second_bias = tf.Variable(tf.zeros([second_layer_neurons]))  \n",
    "    second_layer_output = tf.nn.relu(tf.add(tf.matmul(first_layer_output, second_weight),                                           second_bias))   \n",
    "    # output layer  \n",
    "    final_weight = tf.Variable(tf.random_uniform([second_layer_neurons, no_classes]))  \n",
    "    final_bias = tf.Variable(tf.zeros([no_classes])) \n",
    "    logits = tf.add(tf.matmul(second_layer_output, final_weight), final_bias)   \n",
    "\n",
    "    return logits"
   ]
  },
  {
   "cell_type": "markdown",
   "metadata": {},
   "source": [
    "<div style=\"font-family:Roboto;background-color:black; padding:20px; font-size:30px; text-align:center\">\n",
    "\n",
    "Call the multilayer perceptron function\n",
    "\n",
    "</div>"
   ]
  },
  {
   "cell_type": "code",
   "execution_count": 12,
   "metadata": {},
   "outputs": [
    {
     "name": "stdout",
     "output_type": "stream",
     "text": [
      "WARNING:tensorflow:From c:\\Users\\adeke\\anaconda3\\lib\\site-packages\\tensorflow\\python\\util\\dispatch.py:1176: softmax_cross_entropy_with_logits (from tensorflow.python.ops.nn_ops) is deprecated and will be removed in a future version.\n",
      "Instructions for updating:\n",
      "\n",
      "Future major versions of TensorFlow will allow gradients to flow\n",
      "into the labels input on backprop by default.\n",
      "\n",
      "See `tf.nn.softmax_cross_entropy_with_logits_v2`.\n",
      "\n"
     ]
    },
    {
     "name": "stdout",
     "output_type": "stream",
     "text": [
      "Epoch========0\n",
      "Epoch========1\n",
      "Epoch========2\n",
      "Epoch========3\n",
      "Epoch========4\n",
      "Epoch========5\n",
      "Epoch========6\n",
      "Epoch========7\n",
      "Epoch========8\n",
      "Epoch========9\n",
      "Epoch========10\n",
      "Epoch========11\n",
      "Epoch========12\n",
      "Epoch========13\n",
      "Epoch========14\n",
      "Epoch========15\n",
      "Epoch========16\n",
      "Epoch========17\n",
      "Epoch========18\n",
      "Epoch========19\n",
      "Accuracy: 0.8822000026702881\n"
     ]
    }
   ],
   "source": [
    "logits = multilayer_perceptron(X, no_labels) \n",
    "\n",
    "learning_rate = 0.01 \n",
    "#we define the loss and optimiser for the network \n",
    "loss_op = tf.reduce_mean(tf.nn.softmax_cross_entropy_with_logits(logits=logits, labels=Y)) \n",
    "optimiser = tf.train.AdamOptimizer(learning_rate=learning_rate) \n",
    "train_op = optimiser.minimize(loss_op)\n",
    "\n",
    "#initialise the variables \n",
    "init = tf.global_variables_initializer()\n",
    "\n",
    "epochs = 20 \n",
    "batch_size = 1000 \n",
    "iteration = len(x_train) // batch_size  \n",
    "\n",
    "#train model \n",
    "with tf.Session() as session:  \n",
    "    session.run(init)  \n",
    "    for epoch in range(epochs):    \n",
    "        average_cost = 0    \n",
    "        start, end = 0, batch_size\n",
    "\n",
    "        for i in range(iteration):     \n",
    "             batch_x, batch_y = x_train[start: end], y_train[start: end]     \n",
    "             _, loss = session.run([train_op, loss_op], feed_dict={X: batch_x, Y: batch_y})     \n",
    "             start += batch_size      \n",
    "             end += batch_size       \n",
    "             #average loss      \n",
    "             average_cost += loss/iteration    \n",
    "        print(\"Epoch========{}\".format(epoch))      \n",
    "             \n",
    "    #evaluate model  \n",
    "    prediction = tf.nn.softmax(logits)  \n",
    "    ground_truth = tf.equal(tf.argmax(prediction, 1), tf.argmax(Y, 1))  \n",
    "    accuracy = tf.reduce_mean(tf.cast(ground_truth, \"float\")) \n",
    "    print(\"Accuracy: {}\".format(accuracy.eval({X: test_images, Y: y_test})))"
   ]
  },
  {
   "cell_type": "markdown",
   "metadata": {},
   "source": [
    "<div style=\"font-family:Roboto;background-color:black; padding:20px; font-size:30px; text-align:center\">\n",
    "\n",
    "Optimization for training deep neural networks\n",
    "\n",
    "</div>"
   ]
  },
  {
   "cell_type": "code",
   "execution_count": 13,
   "metadata": {},
   "outputs": [
    {
     "name": "stdout",
     "output_type": "stream",
     "text": [
      "Train on 50000 samples, validate on 10000 samples\n",
      "Epoch 1/20\n",
      "50000/50000 [==============================] - 1s 22us/sample - loss: 0.6873 - acc: 0.8183 - val_loss: 0.2559 - val_acc: 0.9262\n"
     ]
    },
    {
     "name": "stderr",
     "output_type": "stream",
     "text": [
      "c:\\Users\\adeke\\anaconda3\\lib\\site-packages\\keras\\src\\engine\\training_v1.py:2335: UserWarning: `Model.state_updates` will be removed in a future version. This property should not be used in TensorFlow 2.0, as `updates` are applied automatically.\n",
      "  updates = self.state_updates\n"
     ]
    },
    {
     "name": "stdout",
     "output_type": "stream",
     "text": [
      "Epoch 2/20\n",
      "50000/50000 [==============================] - 1s 21us/sample - loss: 0.2344 - acc: 0.9324 - val_loss: 0.1832 - val_acc: 0.9500\n",
      "Epoch 3/20\n",
      "50000/50000 [==============================] - 1s 22us/sample - loss: 0.1731 - acc: 0.9503 - val_loss: 0.1460 - val_acc: 0.9579\n",
      "Epoch 4/20\n",
      "50000/50000 [==============================] - 1s 21us/sample - loss: 0.1350 - acc: 0.9614 - val_loss: 0.1287 - val_acc: 0.9638\n",
      "Epoch 5/20\n",
      "50000/50000 [==============================] - 1s 24us/sample - loss: 0.1078 - acc: 0.9695 - val_loss: 0.1166 - val_acc: 0.9670\n",
      "Epoch 6/20\n",
      "50000/50000 [==============================] - 1s 21us/sample - loss: 0.0907 - acc: 0.9740 - val_loss: 0.1051 - val_acc: 0.9696\n",
      "Epoch 7/20\n",
      "50000/50000 [==============================] - 1s 21us/sample - loss: 0.0762 - acc: 0.9783 - val_loss: 0.0970 - val_acc: 0.9722\n",
      "Epoch 8/20\n",
      "50000/50000 [==============================] - 1s 21us/sample - loss: 0.0646 - acc: 0.9816 - val_loss: 0.0909 - val_acc: 0.9725\n",
      "Epoch 9/20\n",
      "50000/50000 [==============================] - 1s 21us/sample - loss: 0.0559 - acc: 0.9845 - val_loss: 0.0882 - val_acc: 0.9734\n",
      "Epoch 10/20\n",
      "50000/50000 [==============================] - 1s 21us/sample - loss: 0.0477 - acc: 0.9865 - val_loss: 0.0833 - val_acc: 0.9745\n",
      "Epoch 11/20\n",
      "50000/50000 [==============================] - 1s 21us/sample - loss: 0.0401 - acc: 0.9891 - val_loss: 0.0816 - val_acc: 0.9753\n",
      "Epoch 12/20\n",
      "50000/50000 [==============================] - 1s 20us/sample - loss: 0.0355 - acc: 0.9906 - val_loss: 0.0834 - val_acc: 0.9751\n",
      "Epoch 13/20\n",
      "50000/50000 [==============================] - 1s 21us/sample - loss: 0.0298 - acc: 0.9922 - val_loss: 0.0772 - val_acc: 0.9775\n",
      "Epoch 14/20\n",
      "50000/50000 [==============================] - 1s 21us/sample - loss: 0.0271 - acc: 0.9929 - val_loss: 0.0778 - val_acc: 0.9772\n",
      "Epoch 15/20\n",
      "50000/50000 [==============================] - 1s 21us/sample - loss: 0.0218 - acc: 0.9948 - val_loss: 0.0779 - val_acc: 0.9776\n",
      "Epoch 16/20\n",
      "50000/50000 [==============================] - 1s 21us/sample - loss: 0.0182 - acc: 0.9960 - val_loss: 0.0767 - val_acc: 0.9786\n",
      "Epoch 17/20\n",
      "50000/50000 [==============================] - 1s 22us/sample - loss: 0.0157 - acc: 0.9970 - val_loss: 0.0775 - val_acc: 0.9773\n",
      "Epoch 18/20\n",
      "50000/50000 [==============================] - 1s 21us/sample - loss: 0.0127 - acc: 0.9978 - val_loss: 0.0775 - val_acc: 0.9786\n",
      "Epoch 19/20\n",
      "50000/50000 [==============================] - 1s 21us/sample - loss: 0.0112 - acc: 0.9982 - val_loss: 0.0789 - val_acc: 0.9784\n",
      "Epoch 20/20\n",
      "50000/50000 [==============================] - 1s 20us/sample - loss: 0.0100 - acc: 0.9986 - val_loss: 0.0802 - val_acc: 0.9776\n",
      "Test loss: 0.07352617561199004\n",
      "Test accuracy: 0.9793999791145325\n"
     ]
    }
   ],
   "source": [
    "#Building a Sequential Feed Forward Network in Keras \n",
    "from tensorflow.keras.layers import Dense \n",
    "from tensorflow.keras.models import Sequential \n",
    "\n",
    "model = Sequential() \n",
    "model.add(Dense(256, activation='relu', input_shape=(new_dimension,))) \n",
    "model.add(Dense(128, activation='relu')) \n",
    "model.add(Dense(no_labels, activation='softmax')) \n",
    "model.compile(optimizer='adam', loss=tf.keras.losses.categorical_crossentropy,               \n",
    "              metrics=['accuracy']) \n",
    "history = model.fit(x_train, y_train, validation_data=(x_val, y_val), epochs=20, batch_size=1000) \n",
    "                    \n",
    "test_loss, test_accuracy = model.evaluate(test_images, y_test) \n",
    "\n",
    "print('Test loss: {}'.format(test_loss)) \n",
    "print('Test accuracy: {}'.format(test_accuracy))"
   ]
  },
  {
   "cell_type": "code",
   "execution_count": 14,
   "metadata": {},
   "outputs": [
    {
     "data": {
      "text/plain": [
       "Text(0.5, 1.0, 'Loss Curves - before regularisation')"
      ]
     },
     "execution_count": 14,
     "metadata": {},
     "output_type": "execute_result"
    },
    {
     "data": {
      "image/png": "[encoded data removed]",
      "text/plain": [
       "<Figure size 640x480 with 1 Axes>"
      ]
     },
     "metadata": {},
     "output_type": "display_data"
    }
   ],
   "source": [
    "# Check for Overfitting\n",
    "\n",
    "plt.figure() \n",
    "plt.plot(history.history['loss'], 'blue') \n",
    "plt.plot(history.history['val_loss'], 'red') \n",
    "plt.legend(['Training loss', 'Validation Loss']) \n",
    "plt.xlabel('Epochs') \n",
    "plt.ylabel('Loss') \n",
    "plt.title('Loss Curves - before regularisation')\n"
   ]
  },
  {
   "cell_type": "markdown",
   "metadata": {},
   "source": [
    "### Although the validation and training loss seem great, we can see that the validation \n",
    "### Loss increases  \n",
    "### This identifies overfitting in our network. How do we proceed? \n",
    "### Introduce regularisation to the model."
   ]
  },
  {
   "cell_type": "code",
   "execution_count": 16,
   "metadata": {},
   "outputs": [
    {
     "name": "stdout",
     "output_type": "stream",
     "text": [
      "Train on 50000 samples, validate on 10000 samples\n",
      "Epoch 1/20\n",
      "50000/50000 [==============================] - 1s 27us/sample - loss: 0.9956 - acc: 0.6859 - val_loss: 0.2884 - val_acc: 0.9197\n",
      "Epoch 2/20\n",
      "50000/50000 [==============================] - 1s 30us/sample - loss: 0.3745 - acc: 0.8888 - val_loss: 0.2002 - val_acc: 0.9429\n",
      "Epoch 3/20\n",
      "50000/50000 [==============================] - 2s 31us/sample - loss: 0.2785 - acc: 0.9169 - val_loss: 0.1638 - val_acc: 0.9543\n",
      "Epoch 4/20\n",
      "50000/50000 [==============================] - 2s 31us/sample - loss: 0.2344 - acc: 0.9318 - val_loss: 0.1379 - val_acc: 0.9613\n",
      "Epoch 5/20\n",
      "50000/50000 [==============================] - 2s 33us/sample - loss: 0.1999 - acc: 0.9418 - val_loss: 0.1243 - val_acc: 0.9635\n",
      "Epoch 6/20\n",
      "50000/50000 [==============================] - 2s 31us/sample - loss: 0.1794 - acc: 0.9468 - val_loss: 0.1147 - val_acc: 0.9666\n",
      "Epoch 7/20\n",
      "50000/50000 [==============================] - 2s 31us/sample - loss: 0.1591 - acc: 0.9543 - val_loss: 0.1044 - val_acc: 0.9702\n",
      "Epoch 8/20\n",
      "50000/50000 [==============================] - 1s 30us/sample - loss: 0.1447 - acc: 0.9579 - val_loss: 0.0958 - val_acc: 0.9722\n",
      "Epoch 9/20\n",
      "50000/50000 [==============================] - 1s 29us/sample - loss: 0.1344 - acc: 0.9602 - val_loss: 0.0939 - val_acc: 0.9742\n",
      "Epoch 10/20\n",
      "50000/50000 [==============================] - 2s 31us/sample - loss: 0.1214 - acc: 0.9636 - val_loss: 0.0908 - val_acc: 0.9736\n",
      "Epoch 11/20\n",
      "50000/50000 [==============================] - 1s 29us/sample - loss: 0.1115 - acc: 0.9667 - val_loss: 0.0868 - val_acc: 0.9745\n",
      "Epoch 12/20\n",
      "50000/50000 [==============================] - 2s 30us/sample - loss: 0.1042 - acc: 0.9682 - val_loss: 0.0837 - val_acc: 0.9761\n",
      "Epoch 13/20\n",
      "50000/50000 [==============================] - 1s 29us/sample - loss: 0.0980 - acc: 0.9700 - val_loss: 0.0813 - val_acc: 0.9771\n",
      "Epoch 14/20\n",
      "50000/50000 [==============================] - 2s 30us/sample - loss: 0.0907 - acc: 0.9734 - val_loss: 0.0782 - val_acc: 0.9781\n",
      "Epoch 15/20\n",
      "50000/50000 [==============================] - 1s 29us/sample - loss: 0.0873 - acc: 0.9737 - val_loss: 0.0791 - val_acc: 0.9782\n",
      "Epoch 16/20\n",
      "50000/50000 [==============================] - 1s 29us/sample - loss: 0.0830 - acc: 0.9748 - val_loss: 0.0772 - val_acc: 0.9787\n",
      "Epoch 17/20\n",
      "50000/50000 [==============================] - 2s 31us/sample - loss: 0.0769 - acc: 0.9772 - val_loss: 0.0768 - val_acc: 0.9781\n",
      "Epoch 18/20\n",
      "50000/50000 [==============================] - 1s 29us/sample - loss: 0.0730 - acc: 0.9771 - val_loss: 0.0749 - val_acc: 0.9796\n",
      "Epoch 19/20\n",
      "50000/50000 [==============================] - 2s 31us/sample - loss: 0.0711 - acc: 0.9775 - val_loss: 0.0756 - val_acc: 0.9787\n",
      "Epoch 20/20\n",
      "50000/50000 [==============================] - 1s 30us/sample - loss: 0.0676 - acc: 0.9792 - val_loss: 0.0741 - val_acc: 0.9798\n",
      "Test loss: 0.06964509493651568\n",
      "Test accuracy: 0.9811000227928162\n",
      "Test loss: 0.06964509493651568\n",
      "Test accuracy: 0.9811000227928162\n"
     ]
    }
   ],
   "source": [
    "from tensorflow.keras.layers import Dropout \n",
    "reg_model = Sequential() \n",
    "reg_model.add(Dense(256, activation='relu', input_shape=(new_dimension,))) \n",
    "reg_model.add(Dropout(0.4))\n",
    "reg_model.add(Dense(128, activation='relu')) \n",
    "reg_model.add(Dropout(0.4)) \n",
    "reg_model.add(Dense(no_labels, activation='softmax')) \n",
    "\n",
    "reg_model.compile(optimizer='adam', loss=tf.keras.losses.categorical_crossentropy, \n",
    "                  metrics=['accuracy'])               \n",
    "reg_history = reg_model.fit(x_train, y_train, validation_data=(x_val, y_val),                   \n",
    "                            epochs=20, batch_size=1000) \n",
    "test_loss, test_accuracy = reg_model.evaluate(test_images, y_test) \n",
    "print('Test loss: {}'.format(test_loss)) \n",
    "print('Test accuracy: {}'.format(test_accuracy)) \n",
    "\n",
    "test_loss, test_accuracy = reg_model.evaluate(test_images, y_test) \n",
    "print('Test loss: {}'.format(test_loss)) \n",
    "print('Test accuracy: {}'.format(test_accuracy))"
   ]
  },
  {
   "cell_type": "code",
   "execution_count": 17,
   "metadata": {},
   "outputs": [
    {
     "data": {
      "text/plain": [
       "Text(0.5, 1.0, 'Loss Curves - after regularisation')"
      ]
     },
     "execution_count": 17,
     "metadata": {},
     "output_type": "execute_result"
    },
    {
     "data": {
      "image/png": "[encoded data removed]",
      "text/plain": [
       "<Figure size 640x480 with 1 Axes>"
      ]
     },
     "metadata": {},
     "output_type": "display_data"
    }
   ],
   "source": [
    "plt.figure() \n",
    "plt.plot(reg_history.history['loss'], 'blue') \n",
    "plt.plot(reg_history.history['val_loss'], 'red') \n",
    "plt.legend(['Training loss', 'Validation Loss']) \n",
    "plt.xlabel('Epochs') \n",
    "plt.ylabel('Loss') \n",
    "plt.title('Loss Curves - after regularisation')"
   ]
  }
 ],
 "metadata": {
  "kernelspec": {
   "display_name": "base",
   "language": "python",
   "name": "python3"
  },
  "language_info": {
   "codemirror_mode": {
    "name": "ipython",
    "version": 3
   },
   "file_extension": ".py",
   "mimetype": "text/x-python",
   "name": "python",
   "nbconvert_exporter": "python",
   "pygments_lexer": "ipython3",
   "version": "3.9.13"
  },
  "orig_nbformat": 4
 },
 "nbformat": 4,
 "nbformat_minor": 2
}
